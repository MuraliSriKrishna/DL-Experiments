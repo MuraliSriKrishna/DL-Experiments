{
  "nbformat": 4,
  "nbformat_minor": 0,
  "metadata": {
    "colab": {
      "provenance": [],
      "authorship_tag": "ABX9TyNiNbC0HFvV7kLuUt/hQsuU",
      "include_colab_link": true
    },
    "kernelspec": {
      "name": "python3",
      "display_name": "Python 3"
    },
    "language_info": {
      "name": "python"
    }
  },
  "cells": [
    {
      "cell_type": "markdown",
      "metadata": {
        "id": "view-in-github",
        "colab_type": "text"
      },
      "source": [
        "<a href=\"https://colab.research.google.com/github/MuraliSriKrishna/DL-Experiments/blob/main/5_Back_Propogation.ipynb\" target=\"_parent\"><img src=\"https://colab.research.google.com/assets/colab-badge.svg\" alt=\"Open In Colab\"/></a>"
      ]
    },
    {
      "cell_type": "code",
      "execution_count": 1,
      "metadata": {
        "id": "bDUdf2N_3IF3"
      },
      "outputs": [],
      "source": [
        "from math import exp\n",
        "from random import seed\n",
        "from random import random"
      ]
    },
    {
      "cell_type": "code",
      "source": [
        "# Initialize a network\n",
        "def initialize_network(n_inputs, n_hidden, n_outputs):\n",
        "  network = list()\n",
        "  n_hidden_layer = [{'weights':[random() for i in range(n_inputs + 1)]}for i in range(n_hidden)]\n",
        "  network.append(n_hidden_layer)\n",
        "  output_layer = [{'weights':[random() for i in range(n_hidden + 1)]}for i in range(n_outputs)]\n",
        "  network.append(output_layer)\n",
        "  return network"
      ],
      "metadata": {
        "id": "YmYEPR2y4XZe"
      },
      "execution_count": 2,
      "outputs": []
    },
    {
      "cell_type": "code",
      "source": [
        "# Calculate neuron activation for an input\n",
        "def activate(weights, inputs):\n",
        "  activation = weights[-1]\n",
        "  for i in range(len(weights)-1):\n",
        "    activation += weights[i] * inputs[i]\n",
        "  return activation"
      ],
      "metadata": {
        "id": "7XyYTuKU4kfm"
      },
      "execution_count": 3,
      "outputs": []
    },
    {
      "cell_type": "code",
      "source": [
        "# Transfer neuron activation\n",
        "def transfer(activation):\n",
        " return 1.0 / (1.0 + exp(-activation))"
      ],
      "metadata": {
        "id": "CzDs98Sa4mRN"
      },
      "execution_count": 4,
      "outputs": []
    },
    {
      "cell_type": "code",
      "source": [
        "# Forward propagate input to a network output\n",
        "def forward_propagate(network, row):\n",
        " inputs = row\n",
        " for layer in network:\n",
        "  new_inputs = []\n",
        "  for neuron in layer:\n",
        "    activation = activate(neuron['weights'], inputs)\n",
        "    neuron['output'] = transfer(activation)\n",
        "    new_inputs.append(neuron['output'])\n",
        "  inputs = new_inputs\n",
        " return inputs"
      ],
      "metadata": {
        "id": "QgJHMYxU8IDI"
      },
      "execution_count": 5,
      "outputs": []
    },
    {
      "cell_type": "code",
      "source": [
        "# Calculate the derivative of an neuron output\n",
        "def transfer_derivative(output):\n",
        " return output * (1.0 - output)"
      ],
      "metadata": {
        "id": "fgn5mpdJbrjj"
      },
      "execution_count": 6,
      "outputs": []
    },
    {
      "cell_type": "code",
      "source": [
        "# Backpropagate error and store in neurons\n",
        "def backward_propagate_error(network, expected):\n",
        " for i in reversed(range(len(network))):\n",
        "  layer = network[i]\n",
        "  errors = list()\n",
        "  if i != len(network)-1:\n",
        "    for j in range(len(layer)):\n",
        "      error = 0.0\n",
        "    for neuron in network[i + 1]:\n",
        "      error += (neuron['weights'][j] * neuron['delta'])\n",
        "      errors.append(error)\n",
        "  else:\n",
        "    for j in range(len(layer)):\n",
        "      neuron = layer[j]\n",
        "      errors.append(neuron['output'] - expected[j])\n",
        "  for j in range(len(layer)):\n",
        "    neuron = layer[j]\n",
        "    neuron['delta'] = errors[j] * transfer_derivative(neuron['output'])"
      ],
      "metadata": {
        "id": "jy9IxyCVb0zs"
      },
      "execution_count": 7,
      "outputs": []
    },
    {
      "cell_type": "code",
      "source": [
        "# Update network weights with error\n",
        "def update_weights(network, row, l_rate):\n",
        "    for i in range(len(network)):\n",
        "        inputs = row[:-1]\n",
        "        if i != 0:\n",
        "            inputs = [neuron['output'] for neuron in network[i - 1]]\n",
        "        for neuron in network[i]:\n",
        "            for j in range(len(inputs)):\n",
        "                neuron['weights'][j] += l_rate * neuron['delta'] * inputs[j]\n",
        "            neuron['weights'][-1] += l_rate * neuron['delta']"
      ],
      "metadata": {
        "id": "T6ogvtkGb2U0"
      },
      "execution_count": 8,
      "outputs": []
    },
    {
      "cell_type": "code",
      "source": [
        "# Train a network for a fixed number of epochs\n",
        "def train_network(network, train, l_rate, n_epoch, n_outputs):\n",
        "    print(\"\\n Network Training Begins:\\n\")\n",
        "    for epoch in range(n_epoch):\n",
        "        sum_error = 0\n",
        "        for row in train:\n",
        "            outputs = forward_propagate(network, row)\n",
        "            expected = [0 for i in range(n_outputs)]\n",
        "            expected[row[-1]] = 1\n",
        "            sum_error += sum([(expected[i]-outputs[i])**2 for i in range(len(expected))])\n",
        "            backward_propagate_error(network, expected)\n",
        "            update_weights(network, row, l_rate)\n",
        "        print('>epoch=%d, lrate=%.3f, error=%.3f' % (epoch, l_rate, sum_error))\n",
        "    print(\"\\n Network Training Ends:\\n\")"
      ],
      "metadata": {
        "id": "JasWqhb_b6Wz"
      },
      "execution_count": 9,
      "outputs": []
    },
    {
      "cell_type": "code",
      "source": [
        "#Test training backprop algorithm\n",
        "dataset = [[2.7810836,2.550537003,0],\n",
        "    [1.465489372,2.362125076,0],\n",
        "    [3.396561688,4.400293529,0],\n",
        "    [1.38807019,1.850220317,0],\n",
        "    [3.06407232,3.005305973,0],\n",
        "    [7.627531214,2.759262235,1],\n",
        "    [5.332441248,2.088626775,1],\n",
        "    [6.922596716,1.77106367,1],\n",
        "    [8.675418651,-0.242068655,1],\n",
        "    [7.673756466,3.508563011,1]]\n",
        "print(\"\\n The input Data Set :\\n\",dataset)\n",
        "n_inputs = len(dataset[0]) - 1\n",
        "print(\"\\n Number of Inputs :\\n\",n_inputs)\n",
        "n_outputs = len(set([row[-1] for row in dataset]))\n",
        "print(\"\\n Number of Outputs :\\n\",n_outputs)"
      ],
      "metadata": {
        "colab": {
          "base_uri": "https://localhost:8080/"
        },
        "id": "uEjraQE1cBL0",
        "outputId": "d1a484de-c6f8-4ccf-ff95-6aa91cc20b50"
      },
      "execution_count": 10,
      "outputs": [
        {
          "output_type": "stream",
          "name": "stdout",
          "text": [
            "\n",
            " The input Data Set :\n",
            " [[2.7810836, 2.550537003, 0], [1.465489372, 2.362125076, 0], [3.396561688, 4.400293529, 0], [1.38807019, 1.850220317, 0], [3.06407232, 3.005305973, 0], [7.627531214, 2.759262235, 1], [5.332441248, 2.088626775, 1], [6.922596716, 1.77106367, 1], [8.675418651, -0.242068655, 1], [7.673756466, 3.508563011, 1]]\n",
            "\n",
            " Number of Inputs :\n",
            " 2\n",
            "\n",
            " Number of Outputs :\n",
            " 2\n"
          ]
        }
      ]
    },
    {
      "cell_type": "code",
      "source": [
        "#Network Initialization\n",
        "network = initialize_network(n_inputs, 2, n_outputs)\n",
        "\n",
        "# Training the Network\n",
        "train_network(network, dataset, 0.5, 20, n_outputs)\n",
        "print(\"\\n Final Neural Network :\")\n",
        "i= 1\n",
        "for layer in network:\n",
        "    j=1\n",
        "    for sub in layer:\n",
        "        print(\"\\n Layer[%d] Node[%d]:\\n\" %(i,j),sub)\n",
        "        j=j+1\n",
        "    i=i+1"
      ],
      "metadata": {
        "colab": {
          "base_uri": "https://localhost:8080/"
        },
        "id": "7KilHu9wdPpE",
        "outputId": "d747e9ff-2e05-41a0-c6cc-8097101fe93f"
      },
      "execution_count": 12,
      "outputs": [
        {
          "output_type": "stream",
          "name": "stdout",
          "text": [
            "\n",
            " Network Training Begins:\n",
            "\n",
            ">epoch=0, lrate=0.500, error=5.954\n",
            ">epoch=1, lrate=0.500, error=6.762\n",
            ">epoch=2, lrate=0.500, error=7.621\n",
            ">epoch=3, lrate=0.500, error=8.420\n",
            ">epoch=4, lrate=0.500, error=8.918\n",
            ">epoch=5, lrate=0.500, error=9.200\n",
            ">epoch=6, lrate=0.500, error=9.371\n",
            ">epoch=7, lrate=0.500, error=9.483\n",
            ">epoch=8, lrate=0.500, error=9.562\n",
            ">epoch=9, lrate=0.500, error=9.621\n",
            ">epoch=10, lrate=0.500, error=9.666\n",
            ">epoch=11, lrate=0.500, error=9.701\n",
            ">epoch=12, lrate=0.500, error=9.730\n",
            ">epoch=13, lrate=0.500, error=9.754\n",
            ">epoch=14, lrate=0.500, error=9.774\n",
            ">epoch=15, lrate=0.500, error=9.791\n",
            ">epoch=16, lrate=0.500, error=9.805\n",
            ">epoch=17, lrate=0.500, error=9.818\n",
            ">epoch=18, lrate=0.500, error=9.829\n",
            ">epoch=19, lrate=0.500, error=9.839\n",
            "\n",
            " Network Training Ends:\n",
            "\n",
            "\n",
            " Final Neural Network :\n",
            "\n",
            " Layer[1] Node[1]:\n",
            " {'weights': [0.3742885366512915, 0.6097175784257199, 0.6520943627843167], 'output': 0.9965365743234534, 'delta': 4.15067272540331e-05}\n",
            "\n",
            " Layer[1] Node[2]:\n",
            " {'weights': [0.6688303549435505, 0.31928787397092223, 0.8312627047743002], 'output': 0.999161941406414, 'delta': 1.0013246414840137e-05}\n",
            "\n",
            " Layer[2] Node[1]:\n",
            " {'weights': [1.696493752685942, 1.4857077709275892, 1.6260466994586], 'output': 0.9917477870671305, 'delta': 0.008116576863890092}\n",
            "\n",
            " Layer[2] Node[2]:\n",
            " {'weights': [2.013543483572772, 1.7564772593420654, 1.3102592312964054], 'output': 0.9937685290771104, 'delta': -3.858925418302786e-05}\n"
          ]
        }
      ]
    }
  ]
}